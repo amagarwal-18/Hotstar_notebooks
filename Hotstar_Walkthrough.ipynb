{
 "cells": [
  {
   "cell_type": "code",
   "execution_count": 5,
   "metadata": {},
   "outputs": [],
   "source": [
    "import numpy as np\n",
    "import pandas as pd\n",
    "import matplotlib.pyplot as plt\n",
    "%matplotlib inline\n",
    "import json\n",
    "import re\n",
    "import pickle\n",
    "import seaborn as sns\n",
    "import os"
   ]
  },
  {
   "cell_type": "code",
   "execution_count": 6,
   "metadata": {},
   "outputs": [],
   "source": [
    "#import test and train data into dataframe..\n",
    "os.getcwd()\n",
    "os.chdir('/Users/amitagarwal/GreyAtom/Hackathon/hotstar_dataset')\n",
    "train_data = pd.read_json('train_data.json',orient='index')\n",
    "test_data = pd.read_json('test_data.json',orient='index')"
   ]
  },
  {
   "cell_type": "code",
   "execution_count": 7,
   "metadata": {},
   "outputs": [
    {
     "data": {
      "text/html": [
       "<div>\n",
       "<style scoped>\n",
       "    .dataframe tbody tr th:only-of-type {\n",
       "        vertical-align: middle;\n",
       "    }\n",
       "\n",
       "    .dataframe tbody tr th {\n",
       "        vertical-align: top;\n",
       "    }\n",
       "\n",
       "    .dataframe thead th {\n",
       "        text-align: right;\n",
       "    }\n",
       "</style>\n",
       "<table border=\"1\" class=\"dataframe\">\n",
       "  <thead>\n",
       "    <tr style=\"text-align: right;\">\n",
       "      <th></th>\n",
       "      <th>cities</th>\n",
       "      <th>dow</th>\n",
       "      <th>genres</th>\n",
       "      <th>segment</th>\n",
       "      <th>titles</th>\n",
       "      <th>tod</th>\n",
       "    </tr>\n",
       "  </thead>\n",
       "  <tbody>\n",
       "    <tr>\n",
       "      <th>train-121672</th>\n",
       "      <td>delhi:3492,mumbai:64</td>\n",
       "      <td>5:482,4:3008,7:64</td>\n",
       "      <td>Drama:6,Cricket:3469,Wildlife:79</td>\n",
       "      <td>neg</td>\n",
       "      <td>Wild Sex:79,Vintage Dhoni Comes Good with 134:...</td>\n",
       "      <td>18:1372,21:1862,17:320</td>\n",
       "    </tr>\n",
       "    <tr>\n",
       "      <th>train-121673</th>\n",
       "      <td>ahmedabad:56666,mumbai:26989</td>\n",
       "      <td>1:3257,3:9162,2:12893,5:9237,4:8503,7:25094,6:...</td>\n",
       "      <td>Drama:48949,Family:9927,Crime:1901,Romance:165...</td>\n",
       "      <td>neg</td>\n",
       "      <td>Naamkarann:369,Ishq:59,Pardes Mein Hai Mera Di...</td>\n",
       "      <td>11:7726,10:3521,13:2067,12:3844,20:4608,21:936...</td>\n",
       "    </tr>\n",
       "    <tr>\n",
       "      <th>train-121670</th>\n",
       "      <td>navi mumbai:29400</td>\n",
       "      <td>1:40,3:2700,2:4659,5:7338,4:6641,7:2218,6:5800</td>\n",
       "      <td>Cricket:5715,Family:2777,Drama:20873,LiveTV:4,...</td>\n",
       "      <td>neg</td>\n",
       "      <td>India vs Australia 1st Test Hindi:83,India vs ...</td>\n",
       "      <td>11:302,10:1594,13:331,12:133,20:3802,14:3083,2...</td>\n",
       "    </tr>\n",
       "    <tr>\n",
       "      <th>train-121671</th>\n",
       "      <td>chennai:77,navi mumbai:4005,mumbai:0</td>\n",
       "      <td>1:77,2:3883,5:122</td>\n",
       "      <td>Romance:77,Drama:122,Cricket:3883</td>\n",
       "      <td>neg</td>\n",
       "      <td>Rangoon:77,India A vs England XI:3883,Kaabil:122</td>\n",
       "      <td>10:122,12:77,15:1800,14:0,16:2083</td>\n",
       "    </tr>\n",
       "    <tr>\n",
       "      <th>train-121676</th>\n",
       "      <td>bangalore:5135,krishnarajapura:529,hosur:2864</td>\n",
       "      <td>1:6150,3:2378</td>\n",
       "      <td>TalkShow:8529</td>\n",
       "      <td>pos</td>\n",
       "      <td>Koffee With Karan:8529</td>\n",
       "      <td>20:529,21:1257,22:4930,23:538,19:1268,18:6</td>\n",
       "    </tr>\n",
       "  </tbody>\n",
       "</table>\n",
       "</div>"
      ],
      "text/plain": [
       "                                                     cities  \\\n",
       "train-121672                           delhi:3492,mumbai:64   \n",
       "train-121673                   ahmedabad:56666,mumbai:26989   \n",
       "train-121670                              navi mumbai:29400   \n",
       "train-121671           chennai:77,navi mumbai:4005,mumbai:0   \n",
       "train-121676  bangalore:5135,krishnarajapura:529,hosur:2864   \n",
       "\n",
       "                                                            dow  \\\n",
       "train-121672                                  5:482,4:3008,7:64   \n",
       "train-121673  1:3257,3:9162,2:12893,5:9237,4:8503,7:25094,6:...   \n",
       "train-121670     1:40,3:2700,2:4659,5:7338,4:6641,7:2218,6:5800   \n",
       "train-121671                                  1:77,2:3883,5:122   \n",
       "train-121676                                      1:6150,3:2378   \n",
       "\n",
       "                                                         genres segment  \\\n",
       "train-121672                   Drama:6,Cricket:3469,Wildlife:79     neg   \n",
       "train-121673  Drama:48949,Family:9927,Crime:1901,Romance:165...     neg   \n",
       "train-121670  Cricket:5715,Family:2777,Drama:20873,LiveTV:4,...     neg   \n",
       "train-121671                  Romance:77,Drama:122,Cricket:3883     neg   \n",
       "train-121676                                      TalkShow:8529     pos   \n",
       "\n",
       "                                                         titles  \\\n",
       "train-121672  Wild Sex:79,Vintage Dhoni Comes Good with 134:...   \n",
       "train-121673  Naamkarann:369,Ishq:59,Pardes Mein Hai Mera Di...   \n",
       "train-121670  India vs Australia 1st Test Hindi:83,India vs ...   \n",
       "train-121671   Rangoon:77,India A vs England XI:3883,Kaabil:122   \n",
       "train-121676                             Koffee With Karan:8529   \n",
       "\n",
       "                                                            tod  \n",
       "train-121672                             18:1372,21:1862,17:320  \n",
       "train-121673  11:7726,10:3521,13:2067,12:3844,20:4608,21:936...  \n",
       "train-121670  11:302,10:1594,13:331,12:133,20:3802,14:3083,2...  \n",
       "train-121671                  10:122,12:77,15:1800,14:0,16:2083  \n",
       "train-121676         20:529,21:1257,22:4930,23:538,19:1268,18:6  "
      ]
     },
     "execution_count": 7,
     "metadata": {},
     "output_type": "execute_result"
    }
   ],
   "source": [
    "train_data.head()"
   ]
  },
  {
   "cell_type": "code",
   "execution_count": 9,
   "metadata": {},
   "outputs": [],
   "source": [
    "train_data.to_pickle(\"dummy.pkl\")"
   ]
  },
  {
   "cell_type": "code",
   "execution_count": 15,
   "metadata": {},
   "outputs": [],
   "source": [
    "df = pd.read_pickle(\"dummy.pkl\")"
   ]
  },
  {
   "cell_type": "code",
   "execution_count": 16,
   "metadata": {},
   "outputs": [],
   "source": [
    "df = df.iloc[:500]"
   ]
  },
  {
   "cell_type": "code",
   "execution_count": 18,
   "metadata": {},
   "outputs": [
    {
     "data": {
      "text/plain": [
       "(500, 6)"
      ]
     },
     "execution_count": 18,
     "metadata": {},
     "output_type": "execute_result"
    }
   ],
   "source": [
    "df.shape"
   ]
  },
  {
   "cell_type": "code",
   "execution_count": 19,
   "metadata": {},
   "outputs": [],
   "source": [
    "df[\"index\"] = df.index"
   ]
  },
  {
   "cell_type": "code",
   "execution_count": 20,
   "metadata": {},
   "outputs": [],
   "source": [
    "df[\"user\"] = df[\"index\"].str.replace(\"train-\",\"\")"
   ]
  },
  {
   "cell_type": "code",
   "execution_count": 22,
   "metadata": {},
   "outputs": [],
   "source": [
    "df = df.drop([\"index\"],1)"
   ]
  },
  {
   "cell_type": "code",
   "execution_count": 25,
   "metadata": {},
   "outputs": [],
   "source": [
    "df = df.reset_index()"
   ]
  },
  {
   "cell_type": "code",
   "execution_count": 27,
   "metadata": {},
   "outputs": [],
   "source": [
    "df = df.drop([\"index\"],1)"
   ]
  },
  {
   "cell_type": "code",
   "execution_count": 28,
   "metadata": {},
   "outputs": [
    {
     "data": {
      "text/html": [
       "<div>\n",
       "<style scoped>\n",
       "    .dataframe tbody tr th:only-of-type {\n",
       "        vertical-align: middle;\n",
       "    }\n",
       "\n",
       "    .dataframe tbody tr th {\n",
       "        vertical-align: top;\n",
       "    }\n",
       "\n",
       "    .dataframe thead th {\n",
       "        text-align: right;\n",
       "    }\n",
       "</style>\n",
       "<table border=\"1\" class=\"dataframe\">\n",
       "  <thead>\n",
       "    <tr style=\"text-align: right;\">\n",
       "      <th></th>\n",
       "      <th>cities</th>\n",
       "      <th>dow</th>\n",
       "      <th>genres</th>\n",
       "      <th>segment</th>\n",
       "      <th>titles</th>\n",
       "      <th>tod</th>\n",
       "      <th>user</th>\n",
       "    </tr>\n",
       "  </thead>\n",
       "  <tbody>\n",
       "    <tr>\n",
       "      <th>0</th>\n",
       "      <td>delhi:3492,mumbai:64</td>\n",
       "      <td>5:482,4:3008,7:64</td>\n",
       "      <td>Drama:6,Cricket:3469,Wildlife:79</td>\n",
       "      <td>neg</td>\n",
       "      <td>Wild Sex:79,Vintage Dhoni Comes Good with 134:...</td>\n",
       "      <td>18:1372,21:1862,17:320</td>\n",
       "      <td>121672</td>\n",
       "    </tr>\n",
       "    <tr>\n",
       "      <th>1</th>\n",
       "      <td>ahmedabad:56666,mumbai:26989</td>\n",
       "      <td>1:3257,3:9162,2:12893,5:9237,4:8503,7:25094,6:...</td>\n",
       "      <td>Drama:48949,Family:9927,Crime:1901,Romance:165...</td>\n",
       "      <td>neg</td>\n",
       "      <td>Naamkarann:369,Ishq:59,Pardes Mein Hai Mera Di...</td>\n",
       "      <td>11:7726,10:3521,13:2067,12:3844,20:4608,21:936...</td>\n",
       "      <td>121673</td>\n",
       "    </tr>\n",
       "    <tr>\n",
       "      <th>2</th>\n",
       "      <td>navi mumbai:29400</td>\n",
       "      <td>1:40,3:2700,2:4659,5:7338,4:6641,7:2218,6:5800</td>\n",
       "      <td>Cricket:5715,Family:2777,Drama:20873,LiveTV:4,...</td>\n",
       "      <td>neg</td>\n",
       "      <td>India vs Australia 1st Test Hindi:83,India vs ...</td>\n",
       "      <td>11:302,10:1594,13:331,12:133,20:3802,14:3083,2...</td>\n",
       "      <td>121670</td>\n",
       "    </tr>\n",
       "    <tr>\n",
       "      <th>3</th>\n",
       "      <td>chennai:77,navi mumbai:4005,mumbai:0</td>\n",
       "      <td>1:77,2:3883,5:122</td>\n",
       "      <td>Romance:77,Drama:122,Cricket:3883</td>\n",
       "      <td>neg</td>\n",
       "      <td>Rangoon:77,India A vs England XI:3883,Kaabil:122</td>\n",
       "      <td>10:122,12:77,15:1800,14:0,16:2083</td>\n",
       "      <td>121671</td>\n",
       "    </tr>\n",
       "    <tr>\n",
       "      <th>4</th>\n",
       "      <td>bangalore:5135,krishnarajapura:529,hosur:2864</td>\n",
       "      <td>1:6150,3:2378</td>\n",
       "      <td>TalkShow:8529</td>\n",
       "      <td>pos</td>\n",
       "      <td>Koffee With Karan:8529</td>\n",
       "      <td>20:529,21:1257,22:4930,23:538,19:1268,18:6</td>\n",
       "      <td>121676</td>\n",
       "    </tr>\n",
       "  </tbody>\n",
       "</table>\n",
       "</div>"
      ],
      "text/plain": [
       "                                          cities  \\\n",
       "0                           delhi:3492,mumbai:64   \n",
       "1                   ahmedabad:56666,mumbai:26989   \n",
       "2                              navi mumbai:29400   \n",
       "3           chennai:77,navi mumbai:4005,mumbai:0   \n",
       "4  bangalore:5135,krishnarajapura:529,hosur:2864   \n",
       "\n",
       "                                                 dow  \\\n",
       "0                                  5:482,4:3008,7:64   \n",
       "1  1:3257,3:9162,2:12893,5:9237,4:8503,7:25094,6:...   \n",
       "2     1:40,3:2700,2:4659,5:7338,4:6641,7:2218,6:5800   \n",
       "3                                  1:77,2:3883,5:122   \n",
       "4                                      1:6150,3:2378   \n",
       "\n",
       "                                              genres segment  \\\n",
       "0                   Drama:6,Cricket:3469,Wildlife:79     neg   \n",
       "1  Drama:48949,Family:9927,Crime:1901,Romance:165...     neg   \n",
       "2  Cricket:5715,Family:2777,Drama:20873,LiveTV:4,...     neg   \n",
       "3                  Romance:77,Drama:122,Cricket:3883     neg   \n",
       "4                                      TalkShow:8529     pos   \n",
       "\n",
       "                                              titles  \\\n",
       "0  Wild Sex:79,Vintage Dhoni Comes Good with 134:...   \n",
       "1  Naamkarann:369,Ishq:59,Pardes Mein Hai Mera Di...   \n",
       "2  India vs Australia 1st Test Hindi:83,India vs ...   \n",
       "3   Rangoon:77,India A vs England XI:3883,Kaabil:122   \n",
       "4                             Koffee With Karan:8529   \n",
       "\n",
       "                                                 tod    user  \n",
       "0                             18:1372,21:1862,17:320  121672  \n",
       "1  11:7726,10:3521,13:2067,12:3844,20:4608,21:936...  121673  \n",
       "2  11:302,10:1594,13:331,12:133,20:3802,14:3083,2...  121670  \n",
       "3                  10:122,12:77,15:1800,14:0,16:2083  121671  \n",
       "4         20:529,21:1257,22:4930,23:538,19:1268,18:6  121676  "
      ]
     },
     "execution_count": 28,
     "metadata": {},
     "output_type": "execute_result"
    }
   ],
   "source": [
    "df.head()"
   ]
  },
  {
   "cell_type": "code",
   "execution_count": 31,
   "metadata": {},
   "outputs": [],
   "source": [
    "cities_data = [[str(\"\" + i) for i in re.sub(pattern='\\:\\d+', repl='', string = x).split(',')] for x in df['cities']]\n",
    "cities_data = frozenset.union(*pd.Series(cities_data).apply(frozenset))"
   ]
  },
  {
   "cell_type": "code",
   "execution_count": 33,
   "metadata": {},
   "outputs": [],
   "source": [
    "cities_data = [[str(\"\" + i) for i in re.sub(pattern='\\:\\d+', repl='', string = x).split(',')] for x in df['cities']]"
   ]
  },
  {
   "cell_type": "code",
   "execution_count": 35,
   "metadata": {},
   "outputs": [],
   "source": [
    "cities_data = frozenset.union(*pd.Series(cities_data).apply(frozenset))"
   ]
  },
  {
   "cell_type": "code",
   "execution_count": 36,
   "metadata": {},
   "outputs": [
    {
     "data": {
      "text/plain": [
       "frozenset({'Unknown',\n",
       "           'ahmedabad',\n",
       "           'al kuwayt',\n",
       "           'ann arbor',\n",
       "           'ar riya',\n",
       "           'bangalore',\n",
       "           'barcelona',\n",
       "           'bengaluru',\n",
       "           'bhopal',\n",
       "           'bhubaneswar',\n",
       "           'chandigarh',\n",
       "           'chennai',\n",
       "           'chittagong',\n",
       "           'delhi',\n",
       "           'dhaka',\n",
       "           'dubayy',\n",
       "           'gandhinagar',\n",
       "           'gulshan',\n",
       "           'gurgaon',\n",
       "           'hong kong',\n",
       "           'hosur',\n",
       "           'hyderabad',\n",
       "           'islamabad',\n",
       "           'jiddah',\n",
       "           'karachi',\n",
       "           'kathmandu',\n",
       "           'kochi',\n",
       "           'kolkata',\n",
       "           'krishnarajapura',\n",
       "           'lahore',\n",
       "           'ludhiana',\n",
       "           'madikeri',\n",
       "           'madrid',\n",
       "           'mangalore',\n",
       "           'mira-bhayandar',\n",
       "           'mumbai',\n",
       "           'nagar',\n",
       "           'nagari',\n",
       "           'naihati',\n",
       "           'navi mumbai',\n",
       "           'new delhi',\n",
       "           'noida',\n",
       "           'papeete',\n",
       "           'perth',\n",
       "           'peshawar',\n",
       "           'prabhadevi',\n",
       "           'pune',\n",
       "           'ramaiah institute of technology',\n",
       "           'ranchi',\n",
       "           'rawalpindi',\n",
       "           'secunderabad',\n",
       "           'singapore',\n",
       "           'srinagar',\n",
       "           'surat',\n",
       "           'suri',\n",
       "           'thane',\n",
       "           'thiruvananthapuram',\n",
       "           'tiruchirappalli',\n",
       "           'vadodara',\n",
       "           'vasai'})"
      ]
     },
     "execution_count": 36,
     "metadata": {},
     "output_type": "execute_result"
    }
   ],
   "source": [
    "cities_data"
   ]
  },
  {
   "cell_type": "code",
   "execution_count": null,
   "metadata": {},
   "outputs": [],
   "source": [
    "def get_cities_freq(row):\n",
    "    \n",
    "    cities_dict = {}\n",
    "    for cities in row.cities.split(\",\"):\n",
    "        cities_name, cities_wt = cities.split(\":\")\n",
    "        cities_dict[str(\"cities_\" + cities_name)] = int(cities_wt)\n",
    "    \n",
    "    cities_freq = {}\n",
    "    for i in cities_data:\n",
    "        if i in cities_dict:\n",
    "            cities_freq[i] = cities_dict[i] \n",
    "        else:\n",
    "            cities_freq[i] = 0            \n",
    "\n",
    "    return pd.Series(cities_freq)"
   ]
  }
 ],
 "metadata": {
  "kernelspec": {
   "display_name": "Python 3",
   "language": "python",
   "name": "python3"
  },
  "language_info": {
   "codemirror_mode": {
    "name": "ipython",
    "version": 3
   },
   "file_extension": ".py",
   "mimetype": "text/x-python",
   "name": "python",
   "nbconvert_exporter": "python",
   "pygments_lexer": "ipython3",
   "version": "3.7.0"
  }
 },
 "nbformat": 4,
 "nbformat_minor": 2
}
