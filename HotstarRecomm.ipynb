{
 "cells": [
  {
   "cell_type": "code",
   "execution_count": 1,
   "metadata": {},
   "outputs": [],
   "source": [
    "#!curl \"https://onedrive.live.com/download?cid=C132C52D965EBCB9&resid=C132C52D965EBCB9%21694&authkey=AHOpX2K5oup50Ss\""
   ]
  },
  {
   "cell_type": "code",
   "execution_count": 2,
   "metadata": {},
   "outputs": [],
   "source": [
    "#!curl \"https://onedrive.live.com/download?cid=C132C52D965EBCB9&resid=C132C52D965EBCB9%21694&authkey=AHOpX2K5oup50Ss\" -L -o train_file.pkl"
   ]
  },
  {
   "cell_type": "code",
   "execution_count": 2,
   "metadata": {},
   "outputs": [],
   "source": [
    "import pandas as pd\n",
    "import os"
   ]
  },
  {
   "cell_type": "code",
   "execution_count": 7,
   "metadata": {},
   "outputs": [],
   "source": [
    "df = pd.read_json(\"/Users/amitagarwal/GreyAtom/Hackathon/Hotstar/data/train_data.json\")"
   ]
  },
  {
   "cell_type": "code",
   "execution_count": 8,
   "metadata": {},
   "outputs": [],
   "source": [
    "df = df.T\n",
    "df_500 = df.iloc[:2000]"
   ]
  },
  {
   "cell_type": "code",
   "execution_count": 9,
   "metadata": {},
   "outputs": [
    {
     "data": {
      "text/plain": [
       "(2000, 6)"
      ]
     },
     "execution_count": 9,
     "metadata": {},
     "output_type": "execute_result"
    }
   ],
   "source": [
    "df_500.shape"
   ]
  },
  {
   "cell_type": "code",
   "execution_count": 10,
   "metadata": {},
   "outputs": [],
   "source": [
    "df_500[\"cities\"] #Thankfully all of them are lower case. \n",
    "import warnings\n",
    "warnings.filterwarnings(\"ignore\")\n",
    "df_500[\"index\"] = df_500.index"
   ]
  },
  {
   "cell_type": "code",
   "execution_count": 11,
   "metadata": {},
   "outputs": [],
   "source": [
    "df_500[\"user\"] = df_500[\"index\"].str.replace(\"train-\",\"\")"
   ]
  },
  {
   "cell_type": "code",
   "execution_count": 12,
   "metadata": {},
   "outputs": [],
   "source": [
    "df_500[\"segment\"] = df_500[\"segment\"].str.replace(\"neg\",\"0\")\n",
    "df_500[\"segment\"] = df_500[\"segment\"].str.replace(\"pos\",\"1\")"
   ]
  },
  {
   "cell_type": "code",
   "execution_count": 13,
   "metadata": {},
   "outputs": [
    {
     "data": {
      "text/plain": [
       "0    1832\n",
       "1     168\n",
       "Name: segment, dtype: int64"
      ]
     },
     "execution_count": 13,
     "metadata": {},
     "output_type": "execute_result"
    }
   ],
   "source": [
    "df_500[\"segment\"].value_counts() #Imbalanced - We will deal with this later"
   ]
  },
  {
   "cell_type": "code",
   "execution_count": 14,
   "metadata": {},
   "outputs": [],
   "source": [
    "cities = df_500[\"cities\"].values.tolist()"
   ]
  },
  {
   "cell_type": "code",
   "execution_count": 15,
   "metadata": {},
   "outputs": [],
   "source": [
    "first_row = cities[0].split(\",\")"
   ]
  },
  {
   "cell_type": "code",
   "execution_count": 16,
   "metadata": {},
   "outputs": [],
   "source": [
    "flat_list_1 = [item for sublist in [i.split(':', 1) for i in first_row] for item in sublist]"
   ]
  },
  {
   "cell_type": "code",
   "execution_count": 17,
   "metadata": {},
   "outputs": [],
   "source": [
    "city = pd.DataFrame(flat_list_1[0::2]).T\n",
    "second = pd.DataFrame(flat_list_1[1::2]).T"
   ]
  },
  {
   "cell_type": "code",
   "execution_count": 18,
   "metadata": {},
   "outputs": [],
   "source": [
    "s = pd.concat([city,second],ignore_index=True) #ignoring index is key, you will need them to reset to indexes 0 and 1\n",
    "#will save countless minutes of pain, trying to figre out where the nans during concatenation came from. indexes are \n",
    "#key during a concat. if the dfs do not have similar indexes they will not concat accordingly \n",
    "\n",
    "\n",
    "s.columns = s.iloc[0] #making the first row or .iloc[0] as the header\n",
    "s = s.drop([0],0) #dropping .iloc[0]th row"
   ]
  },
  {
   "cell_type": "code",
   "execution_count": 19,
   "metadata": {},
   "outputs": [],
   "source": [
    "second_row = cities[1].split(\",\")"
   ]
  },
  {
   "cell_type": "code",
   "execution_count": 20,
   "metadata": {},
   "outputs": [],
   "source": [
    "flat_list_2 = [item for sublist in [i.split(':', 1) for i in second_row] for item in sublist]"
   ]
  },
  {
   "cell_type": "code",
   "execution_count": 21,
   "metadata": {},
   "outputs": [],
   "source": [
    "city = pd.DataFrame(flat_list_2[0::2]).T\n",
    "second = pd.DataFrame(flat_list_2[1::2]).T\n",
    "f = pd.concat([city,second],ignore_index=True) "
   ]
  },
  {
   "cell_type": "code",
   "execution_count": 22,
   "metadata": {},
   "outputs": [],
   "source": [
    "f.columns = f.iloc[0] #making the first row or .iloc[0] as the header\n",
    "f = f.drop([0],0) #dropping .iloc[0]th row"
   ]
  },
  {
   "cell_type": "code",
   "execution_count": 23,
   "metadata": {},
   "outputs": [],
   "source": [
    "frames = [s,f]\n",
    "fs = pd.concat(frames,join='outer', ignore_index=True)"
   ]
  },
  {
   "cell_type": "code",
   "execution_count": 24,
   "metadata": {},
   "outputs": [
    {
     "data": {
      "text/html": [
       "<div>\n",
       "<style scoped>\n",
       "    .dataframe tbody tr th:only-of-type {\n",
       "        vertical-align: middle;\n",
       "    }\n",
       "\n",
       "    .dataframe tbody tr th {\n",
       "        vertical-align: top;\n",
       "    }\n",
       "\n",
       "    .dataframe thead th {\n",
       "        text-align: right;\n",
       "    }\n",
       "</style>\n",
       "<table border=\"1\" class=\"dataframe\">\n",
       "  <thead>\n",
       "    <tr style=\"text-align: right;\">\n",
       "      <th></th>\n",
       "      <th>ahmedabad</th>\n",
       "      <th>delhi</th>\n",
       "      <th>mumbai</th>\n",
       "    </tr>\n",
       "  </thead>\n",
       "  <tbody>\n",
       "    <tr>\n",
       "      <th>0</th>\n",
       "      <td>0</td>\n",
       "      <td>3492</td>\n",
       "      <td>64</td>\n",
       "    </tr>\n",
       "    <tr>\n",
       "      <th>1</th>\n",
       "      <td>56666</td>\n",
       "      <td>0</td>\n",
       "      <td>26989</td>\n",
       "    </tr>\n",
       "  </tbody>\n",
       "</table>\n",
       "</div>"
      ],
      "text/plain": [
       "  ahmedabad delhi mumbai\n",
       "0         0  3492     64\n",
       "1     56666     0  26989"
      ]
     },
     "execution_count": 24,
     "metadata": {},
     "output_type": "execute_result"
    }
   ],
   "source": [
    "fs.fillna(0)"
   ]
  },
  {
   "cell_type": "code",
   "execution_count": 25,
   "metadata": {},
   "outputs": [],
   "source": [
    "final=[]\n",
    "for i in range(len(cities)):\n",
    "    frames=[]\n",
    "    user_cities = cities[i].split(\",\")\n",
    "    flat_list = [item for sublist in [i.split(':', 1) for i in user_cities] for item in sublist]\n",
    "    city = pd.DataFrame(flat_list[0::2]).T\n",
    "    second = pd.DataFrame(flat_list[1::2]).T\n",
    "    concatenated_df = pd.concat([city,second],ignore_index=True)\n",
    "    concatenated_df.columns = concatenated_df.iloc[0]\n",
    "    concatenated_df = concatenated_df.drop([0],0)\n",
    "    frames.append(concatenated_df)\n",
    "    final_df = pd.concat(frames,join='outer', ignore_index=True)\n",
    "    final.append(pd.DataFrame(final_df))\n",
    "    \n",
    "city = pd.concat(final,join='outer', ignore_index=True)\n",
    "city = city.fillna(0) "
   ]
  },
  {
   "cell_type": "code",
   "execution_count": 26,
   "metadata": {},
   "outputs": [],
   "source": [
    "genres = df_500[\"genres\"].values.tolist()"
   ]
  },
  {
   "cell_type": "code",
   "execution_count": 27,
   "metadata": {},
   "outputs": [],
   "source": [
    "final_1=[]\n",
    "for i in range(len(genres)):\n",
    "    frames_genres=[]\n",
    "    genre = genres[i].split(\",\")\n",
    "    flat_list_g = [item for sublist in [i.split(':', 1) for i in genre] for item in sublist]\n",
    "    flat_list_g = [i.lower() for i in flat_list_g]\n",
    "    genre_1 = pd.DataFrame(flat_list_g[0::2]).T\n",
    "    second_g = pd.DataFrame(flat_list_g[1::2]).T\n",
    "    genre_df = pd.concat([genre_1,second_g],ignore_index = True)\n",
    "    genre_df.columns = genre_df.iloc[0]\n",
    "    genre_df = genre_df.drop([0],0)\n",
    "    frames_genres.append(genre_df)\n",
    "    final_df_g = pd.concat(frames_genres,join='outer', ignore_index=True)\n",
    "    final_1.append(pd.DataFrame(final_df_g))"
   ]
  },
  {
   "cell_type": "code",
   "execution_count": 28,
   "metadata": {},
   "outputs": [],
   "source": [
    "genre = pd.concat(final_1,join='outer', ignore_index=True)\n",
    "genre = genre.fillna(0) "
   ]
  },
  {
   "cell_type": "code",
   "execution_count": 29,
   "metadata": {},
   "outputs": [
    {
     "name": "stdout",
     "output_type": "stream",
     "text": [
      "1st level\n",
      "Level 2\n"
     ]
    }
   ],
   "source": [
    "df = pd.read_json(\"/Users/amitagarwal/GreyAtom/Hackathon/Hotstar/data/train_data.json\")\n",
    "df = df.T\n",
    "df = df.iloc[:1000]\n",
    "import warnings\n",
    "warnings.filterwarnings(\"ignore\")\n",
    "df[\"index\"] = df.index\n",
    "df_500 = df.copy()\n",
    "df_500[\"user\"] = df_500[\"index\"].str.replace(\"train-\",\"\")\n",
    "df_500[\"segment\"] = df_500[\"segment\"].str.replace(\"neg\",\"0\")\n",
    "df_500[\"segment\"] = df_500[\"segment\"].str.replace(\"pos\",\"1\")\n",
    "\n",
    "print (\"1st level\")\n",
    "df_500 = df_500.drop([\"index\",\"titles\"],1)\n",
    "to_be_recommended = df_500.iloc[800:]\n",
    "#to_be_recommended = to_be_recommended.drop([\"genres\"],1)\n",
    "df_500 = df_500[:800]\n",
    "\n",
    "cities = df_500[\"cities\"].values.tolist()\n",
    "\n",
    "final=[]\n",
    "for i in range(len(cities)):\n",
    "    frames=[]\n",
    "    user_cities = cities[i].split(\",\")\n",
    "    flat_list = [item for sublist in [i.split(':', 1) for i in user_cities] for item in sublist]\n",
    "    city = pd.DataFrame(flat_list[0::2]).T\n",
    "    second = pd.DataFrame(flat_list[1::2]).T\n",
    "    concatenated_df = pd.concat([city,second],ignore_index=True)\n",
    "    concatenated_df.columns = concatenated_df.iloc[0]\n",
    "    concatenated_df = concatenated_df.drop([0],0)\n",
    "    frames.append(concatenated_df)\n",
    "    final_df = pd.concat(frames,join='outer', ignore_index=True)\n",
    "    final.append(pd.DataFrame(final_df))\n",
    "    \n",
    "city = pd.concat(final,join='outer', ignore_index=True)\n",
    "city = city.fillna(0) \n",
    "\n",
    "genres = df_500[\"genres\"].values.tolist()\n",
    "final_1=[]\n",
    "for i in range(len(genres)):\n",
    "    frames_genres=[]\n",
    "    genre = genres[i].split(\",\")\n",
    "    flat_list_g = [item for sublist in [i.split(':', 1) for i in genre] for item in sublist]\n",
    "    flat_list_g = [i.lower() for i in flat_list_g]\n",
    "    genre_1 = pd.DataFrame(flat_list_g[0::2]).T\n",
    "    second_g = pd.DataFrame(flat_list_g[1::2]).T\n",
    "    genre_df = pd.concat([genre_1,second_g],ignore_index = True)\n",
    "    genre_df.columns = genre_df.iloc[0]\n",
    "    genre_df = genre_df.drop([0],0)\n",
    "    frames_genres.append(genre_df)\n",
    "    final_df_g = pd.concat(frames_genres,join='outer', ignore_index=True)\n",
    "    final_1.append(pd.DataFrame(final_df_g))\n",
    "    \n",
    "genre = pd.concat(final_1,join='outer', ignore_index=True)\n",
    "genre = genre.fillna(0) \n",
    "\n",
    "days_of_week = df_500[\"dow\"].values.tolist()\n",
    "final_2=[]\n",
    "for i in range(len(days_of_week)):\n",
    "    frames=[]\n",
    "    user_days = days_of_week[i].split(\",\")\n",
    "    flat_list = [item for sublist in [i.split(':', 1) for i in user_days] for item in sublist]\n",
    "#    flat_list = [int(i) for i in flat_list]\n",
    "    day = pd.DataFrame(flat_list[0::2]).T\n",
    "    second = pd.DataFrame(flat_list[1::2]).T\n",
    "    concatenated_df = pd.concat([day,second],ignore_index=True)\n",
    "    concatenated_df.columns = concatenated_df.iloc[0]\n",
    "    concatenated_df = concatenated_df.drop([0],0)\n",
    "    frames.append(concatenated_df)\n",
    "    final_df = pd.concat(frames,join='outer', ignore_index=True)\n",
    "    final_2.append(pd.DataFrame(final_df))\n",
    "\n",
    "days = pd.concat(final_2,join='outer', ignore_index=True)\n",
    "days = days.fillna(0)\n",
    "days_dict = {\"1\":\"Sunday\", \"2\":\"Monday\", \"3\":\"Tuesday\", \"4\":\"Wednesday\", \"5\":\"Thursday\", \n",
    "             \"6\":\"Friday\", \"7\":\"Saturday\"} \n",
    "day_key = pd.DataFrame(list(days_dict.items()),columns = [\"dow_cat\",\"day\"])  \n",
    "d = day_key.set_index('dow_cat').to_dict()  \n",
    "days.columns = days.columns.to_series().map(d['day'])\n",
    "print (\"Level 2\")\n",
    "time_am = [str(x) for x in range(0,12)]\n",
    "time_pm=[str(x) for x in range(12,24)]\n",
    "am=[str(x)+ \" am\" for x in range(0,12)]\n",
    "pm=[str(x)+ \" pm\" for x in range(0,12)]\n",
    "d1 = dict(zip(time_am,am))\n",
    "d2 = dict(zip(time_pm,pm))\n",
    "d1[\"0\"] = \"12 am\" #changing 0 to 12 am\n",
    "d2[\"12\"] = \"12 pm\" #changing 12 to 12 pm \n",
    "time_dict = {**d1,**d2} #merging both dicts\n",
    "\n",
    "time_of_day = df_500[\"tod\"].values.tolist()\n",
    "final_3=[]\n",
    "for i in range(len(days_of_week)):\n",
    "    frames=[]\n",
    "    user_time = time_of_day[i].split(\",\")\n",
    "    flat_list = [item for sublist in [i.split(':', 1) for i in user_time] for item in sublist]\n",
    "#    flat_list = [int(i) for i in flat_list]\n",
    "    time = pd.DataFrame(flat_list[0::2]).T\n",
    "    second = pd.DataFrame(flat_list[1::2]).T\n",
    "    concatenated_df = pd.concat([time,second],ignore_index=True)\n",
    "    concatenated_df.columns = concatenated_df.iloc[0]\n",
    "    concatenated_df = concatenated_df.drop([0],0)\n",
    "    frames.append(concatenated_df)\n",
    "    final_df = pd.concat(frames,join='outer', ignore_index=True)\n",
    "    final_3.append(pd.DataFrame(final_df))\n",
    "timeofday = pd.concat(final_3,join='outer', ignore_index=True)\n",
    "timeofday = timeofday.fillna(0)\n",
    "time_key = pd.DataFrame(list(time_dict.items()),columns = [\"tod_cat\",\"hour\"]) \n",
    "t = time_key.set_index('tod_cat').to_dict() \n",
    "timeofday.columns = timeofday.columns.to_series().map(t['hour']) \n",
    "time_of_day = timeofday\n",
    "\n",
    "df_500 = df_500.reset_index()\n",
    "#train = pd.concat([df_500,city,genre,days,time_of_day],axis = 1)\n"
   ]
  },
  {
   "cell_type": "code",
   "execution_count": 45,
   "metadata": {},
   "outputs": [],
   "source": [
    "train = pd.concat([df_500,city,genre,days,time_of_day],axis = 1)"
   ]
  },
  {
   "cell_type": "code",
   "execution_count": 46,
   "metadata": {},
   "outputs": [],
   "source": [
    "drop = ['cities', 'dow', 'genres','tod','index','segment']\n",
    "train = train.drop(drop,1)\n",
    "\n",
    "train = train.apply(pd.to_numeric)"
   ]
  },
  {
   "cell_type": "code",
   "execution_count": 47,
   "metadata": {},
   "outputs": [
    {
     "data": {
      "text/html": [
       "<div>\n",
       "<style scoped>\n",
       "    .dataframe tbody tr th:only-of-type {\n",
       "        vertical-align: middle;\n",
       "    }\n",
       "\n",
       "    .dataframe tbody tr th {\n",
       "        vertical-align: top;\n",
       "    }\n",
       "\n",
       "    .dataframe thead th {\n",
       "        text-align: right;\n",
       "    }\n",
       "</style>\n",
       "<table border=\"1\" class=\"dataframe\">\n",
       "  <thead>\n",
       "    <tr style=\"text-align: right;\">\n",
       "      <th></th>\n",
       "      <th>user</th>\n",
       "      <th>Unknown</th>\n",
       "      <th>ahmedabad</th>\n",
       "      <th>al kuwayt</th>\n",
       "      <th>ann arbor</th>\n",
       "      <th>ar riya</th>\n",
       "      <th>bangalore</th>\n",
       "      <th>barcelona</th>\n",
       "      <th>bengaluru</th>\n",
       "      <th>bhopal</th>\n",
       "      <th>...</th>\n",
       "      <th>9 pm</th>\n",
       "      <th>10 pm</th>\n",
       "      <th>11 pm</th>\n",
       "      <th>3 am</th>\n",
       "      <th>4 am</th>\n",
       "      <th>5 am</th>\n",
       "      <th>6 am</th>\n",
       "      <th>7 am</th>\n",
       "      <th>8 am</th>\n",
       "      <th>9 am</th>\n",
       "    </tr>\n",
       "  </thead>\n",
       "  <tbody>\n",
       "    <tr>\n",
       "      <th>0</th>\n",
       "      <td>121672</td>\n",
       "      <td>0</td>\n",
       "      <td>0</td>\n",
       "      <td>0</td>\n",
       "      <td>0</td>\n",
       "      <td>0</td>\n",
       "      <td>0</td>\n",
       "      <td>0</td>\n",
       "      <td>0</td>\n",
       "      <td>0</td>\n",
       "      <td>...</td>\n",
       "      <td>1862</td>\n",
       "      <td>0</td>\n",
       "      <td>0</td>\n",
       "      <td>0</td>\n",
       "      <td>0</td>\n",
       "      <td>0</td>\n",
       "      <td>0</td>\n",
       "      <td>0</td>\n",
       "      <td>0</td>\n",
       "      <td>0</td>\n",
       "    </tr>\n",
       "    <tr>\n",
       "      <th>1</th>\n",
       "      <td>121673</td>\n",
       "      <td>0</td>\n",
       "      <td>56666</td>\n",
       "      <td>0</td>\n",
       "      <td>0</td>\n",
       "      <td>0</td>\n",
       "      <td>0</td>\n",
       "      <td>0</td>\n",
       "      <td>0</td>\n",
       "      <td>0</td>\n",
       "      <td>...</td>\n",
       "      <td>9360</td>\n",
       "      <td>304</td>\n",
       "      <td>2988</td>\n",
       "      <td>0</td>\n",
       "      <td>0</td>\n",
       "      <td>0</td>\n",
       "      <td>0</td>\n",
       "      <td>0</td>\n",
       "      <td>0</td>\n",
       "      <td>2005</td>\n",
       "    </tr>\n",
       "    <tr>\n",
       "      <th>2</th>\n",
       "      <td>121670</td>\n",
       "      <td>0</td>\n",
       "      <td>0</td>\n",
       "      <td>0</td>\n",
       "      <td>0</td>\n",
       "      <td>0</td>\n",
       "      <td>0</td>\n",
       "      <td>0</td>\n",
       "      <td>0</td>\n",
       "      <td>0</td>\n",
       "      <td>...</td>\n",
       "      <td>3430</td>\n",
       "      <td>2219</td>\n",
       "      <td>2111</td>\n",
       "      <td>0</td>\n",
       "      <td>0</td>\n",
       "      <td>0</td>\n",
       "      <td>1874</td>\n",
       "      <td>504</td>\n",
       "      <td>201</td>\n",
       "      <td>4388</td>\n",
       "    </tr>\n",
       "    <tr>\n",
       "      <th>3</th>\n",
       "      <td>121671</td>\n",
       "      <td>0</td>\n",
       "      <td>0</td>\n",
       "      <td>0</td>\n",
       "      <td>0</td>\n",
       "      <td>0</td>\n",
       "      <td>0</td>\n",
       "      <td>0</td>\n",
       "      <td>0</td>\n",
       "      <td>0</td>\n",
       "      <td>...</td>\n",
       "      <td>0</td>\n",
       "      <td>0</td>\n",
       "      <td>0</td>\n",
       "      <td>0</td>\n",
       "      <td>0</td>\n",
       "      <td>0</td>\n",
       "      <td>0</td>\n",
       "      <td>0</td>\n",
       "      <td>0</td>\n",
       "      <td>0</td>\n",
       "    </tr>\n",
       "    <tr>\n",
       "      <th>4</th>\n",
       "      <td>121676</td>\n",
       "      <td>0</td>\n",
       "      <td>0</td>\n",
       "      <td>0</td>\n",
       "      <td>0</td>\n",
       "      <td>0</td>\n",
       "      <td>5135</td>\n",
       "      <td>0</td>\n",
       "      <td>0</td>\n",
       "      <td>0</td>\n",
       "      <td>...</td>\n",
       "      <td>1257</td>\n",
       "      <td>4930</td>\n",
       "      <td>538</td>\n",
       "      <td>0</td>\n",
       "      <td>0</td>\n",
       "      <td>0</td>\n",
       "      <td>0</td>\n",
       "      <td>0</td>\n",
       "      <td>0</td>\n",
       "      <td>0</td>\n",
       "    </tr>\n",
       "  </tbody>\n",
       "</table>\n",
       "<p>5 rows × 126 columns</p>\n",
       "</div>"
      ],
      "text/plain": [
       "     user  Unknown  ahmedabad  al kuwayt  ann arbor  ar riya  bangalore  \\\n",
       "0  121672        0          0          0          0        0          0   \n",
       "1  121673        0      56666          0          0        0          0   \n",
       "2  121670        0          0          0          0        0          0   \n",
       "3  121671        0          0          0          0        0          0   \n",
       "4  121676        0          0          0          0        0       5135   \n",
       "\n",
       "   barcelona  bengaluru  bhopal  ...   9 pm  10 pm  11 pm  3 am  4 am  5 am  \\\n",
       "0          0          0       0  ...   1862      0      0     0     0     0   \n",
       "1          0          0       0  ...   9360    304   2988     0     0     0   \n",
       "2          0          0       0  ...   3430   2219   2111     0     0     0   \n",
       "3          0          0       0  ...      0      0      0     0     0     0   \n",
       "4          0          0       0  ...   1257   4930    538     0     0     0   \n",
       "\n",
       "   6 am  7 am  8 am  9 am  \n",
       "0     0     0     0     0  \n",
       "1     0     0     0  2005  \n",
       "2  1874   504   201  4388  \n",
       "3     0     0     0     0  \n",
       "4     0     0     0     0  \n",
       "\n",
       "[5 rows x 126 columns]"
      ]
     },
     "execution_count": 47,
     "metadata": {},
     "output_type": "execute_result"
    }
   ],
   "source": [
    "train.head()"
   ]
  },
  {
   "cell_type": "code",
   "execution_count": 48,
   "metadata": {},
   "outputs": [],
   "source": [
    "train = train.iloc[:10]"
   ]
  },
  {
   "cell_type": "code",
   "execution_count": 49,
   "metadata": {},
   "outputs": [],
   "source": [
    "test = train.iloc[7:]\n"
   ]
  },
  {
   "cell_type": "code",
   "execution_count": 50,
   "metadata": {},
   "outputs": [],
   "source": [
    "train = train.iloc[:7]"
   ]
  },
  {
   "cell_type": "code",
   "execution_count": null,
   "metadata": {},
   "outputs": [],
   "source": []
  },
  {
   "cell_type": "code",
   "execution_count": 51,
   "metadata": {},
   "outputs": [],
   "source": [
    "from sklearn.metrics.pairwise import cosine_similarity as cs\n",
    "cols = train[\"user\"].values.tolist()\n",
    "cols = [\"user \"+ str(x) for x in cols]\n",
    "corr_matrix = pd.DataFrame(cs(train),columns = cols)"
   ]
  },
  {
   "cell_type": "code",
   "execution_count": 52,
   "metadata": {},
   "outputs": [
    {
     "data": {
      "text/html": [
       "<div>\n",
       "<style scoped>\n",
       "    .dataframe tbody tr th:only-of-type {\n",
       "        vertical-align: middle;\n",
       "    }\n",
       "\n",
       "    .dataframe tbody tr th {\n",
       "        vertical-align: top;\n",
       "    }\n",
       "\n",
       "    .dataframe thead th {\n",
       "        text-align: right;\n",
       "    }\n",
       "</style>\n",
       "<table border=\"1\" class=\"dataframe\">\n",
       "  <thead>\n",
       "    <tr style=\"text-align: right;\">\n",
       "      <th></th>\n",
       "      <th>user 121672</th>\n",
       "      <th>user 121673</th>\n",
       "      <th>user 121670</th>\n",
       "      <th>user 121671</th>\n",
       "      <th>user 121676</th>\n",
       "      <th>user 121677</th>\n",
       "      <th>user 121674</th>\n",
       "    </tr>\n",
       "  </thead>\n",
       "  <tbody>\n",
       "    <tr>\n",
       "      <th>0</th>\n",
       "      <td>1.000000</td>\n",
       "      <td>0.798391</td>\n",
       "      <td>0.952144</td>\n",
       "      <td>0.997786</td>\n",
       "      <td>0.992856</td>\n",
       "      <td>0.998686</td>\n",
       "      <td>0.949831</td>\n",
       "    </tr>\n",
       "    <tr>\n",
       "      <th>1</th>\n",
       "      <td>0.798391</td>\n",
       "      <td>1.000000</td>\n",
       "      <td>0.833443</td>\n",
       "      <td>0.798616</td>\n",
       "      <td>0.794927</td>\n",
       "      <td>0.796284</td>\n",
       "      <td>0.773970</td>\n",
       "    </tr>\n",
       "    <tr>\n",
       "      <th>2</th>\n",
       "      <td>0.952144</td>\n",
       "      <td>0.833443</td>\n",
       "      <td>1.000000</td>\n",
       "      <td>0.959003</td>\n",
       "      <td>0.946379</td>\n",
       "      <td>0.950181</td>\n",
       "      <td>0.907394</td>\n",
       "    </tr>\n",
       "    <tr>\n",
       "      <th>3</th>\n",
       "      <td>0.997786</td>\n",
       "      <td>0.798616</td>\n",
       "      <td>0.959003</td>\n",
       "      <td>1.000000</td>\n",
       "      <td>0.992234</td>\n",
       "      <td>0.998188</td>\n",
       "      <td>0.948089</td>\n",
       "    </tr>\n",
       "    <tr>\n",
       "      <th>4</th>\n",
       "      <td>0.992856</td>\n",
       "      <td>0.794927</td>\n",
       "      <td>0.946379</td>\n",
       "      <td>0.992234</td>\n",
       "      <td>1.000000</td>\n",
       "      <td>0.994009</td>\n",
       "      <td>0.950160</td>\n",
       "    </tr>\n",
       "    <tr>\n",
       "      <th>5</th>\n",
       "      <td>0.998686</td>\n",
       "      <td>0.796284</td>\n",
       "      <td>0.950181</td>\n",
       "      <td>0.998188</td>\n",
       "      <td>0.994009</td>\n",
       "      <td>1.000000</td>\n",
       "      <td>0.948082</td>\n",
       "    </tr>\n",
       "    <tr>\n",
       "      <th>6</th>\n",
       "      <td>0.949831</td>\n",
       "      <td>0.773970</td>\n",
       "      <td>0.907394</td>\n",
       "      <td>0.948089</td>\n",
       "      <td>0.950160</td>\n",
       "      <td>0.948082</td>\n",
       "      <td>1.000000</td>\n",
       "    </tr>\n",
       "  </tbody>\n",
       "</table>\n",
       "</div>"
      ],
      "text/plain": [
       "   user 121672  user 121673  user 121670  user 121671  user 121676  \\\n",
       "0     1.000000     0.798391     0.952144     0.997786     0.992856   \n",
       "1     0.798391     1.000000     0.833443     0.798616     0.794927   \n",
       "2     0.952144     0.833443     1.000000     0.959003     0.946379   \n",
       "3     0.997786     0.798616     0.959003     1.000000     0.992234   \n",
       "4     0.992856     0.794927     0.946379     0.992234     1.000000   \n",
       "5     0.998686     0.796284     0.950181     0.998188     0.994009   \n",
       "6     0.949831     0.773970     0.907394     0.948089     0.950160   \n",
       "\n",
       "   user 121677  user 121674  \n",
       "0     0.998686     0.949831  \n",
       "1     0.796284     0.773970  \n",
       "2     0.950181     0.907394  \n",
       "3     0.998188     0.948089  \n",
       "4     0.994009     0.950160  \n",
       "5     1.000000     0.948082  \n",
       "6     0.948082     1.000000  "
      ]
     },
     "execution_count": 52,
     "metadata": {},
     "output_type": "execute_result"
    }
   ],
   "source": [
    "corr_matrix"
   ]
  },
  {
   "cell_type": "code",
   "execution_count": 53,
   "metadata": {},
   "outputs": [
    {
     "data": {
      "text/html": [
       "<div>\n",
       "<style scoped>\n",
       "    .dataframe tbody tr th:only-of-type {\n",
       "        vertical-align: middle;\n",
       "    }\n",
       "\n",
       "    .dataframe tbody tr th {\n",
       "        vertical-align: top;\n",
       "    }\n",
       "\n",
       "    .dataframe thead th {\n",
       "        text-align: right;\n",
       "    }\n",
       "</style>\n",
       "<table border=\"1\" class=\"dataframe\">\n",
       "  <thead>\n",
       "    <tr style=\"text-align: right;\">\n",
       "      <th></th>\n",
       "      <th>user</th>\n",
       "      <th>Unknown</th>\n",
       "      <th>ahmedabad</th>\n",
       "      <th>al kuwayt</th>\n",
       "      <th>ann arbor</th>\n",
       "      <th>ar riya</th>\n",
       "      <th>bangalore</th>\n",
       "      <th>barcelona</th>\n",
       "      <th>bengaluru</th>\n",
       "      <th>bhopal</th>\n",
       "      <th>...</th>\n",
       "      <th>9 pm</th>\n",
       "      <th>10 pm</th>\n",
       "      <th>11 pm</th>\n",
       "      <th>3 am</th>\n",
       "      <th>4 am</th>\n",
       "      <th>5 am</th>\n",
       "      <th>6 am</th>\n",
       "      <th>7 am</th>\n",
       "      <th>8 am</th>\n",
       "      <th>9 am</th>\n",
       "    </tr>\n",
       "  </thead>\n",
       "  <tbody>\n",
       "    <tr>\n",
       "      <th>7</th>\n",
       "      <td>121675</td>\n",
       "      <td>0</td>\n",
       "      <td>0</td>\n",
       "      <td>0</td>\n",
       "      <td>0</td>\n",
       "      <td>0</td>\n",
       "      <td>373</td>\n",
       "      <td>0</td>\n",
       "      <td>0</td>\n",
       "      <td>0</td>\n",
       "      <td>...</td>\n",
       "      <td>0</td>\n",
       "      <td>0</td>\n",
       "      <td>0</td>\n",
       "      <td>0</td>\n",
       "      <td>0</td>\n",
       "      <td>0</td>\n",
       "      <td>0</td>\n",
       "      <td>0</td>\n",
       "      <td>0</td>\n",
       "      <td>0</td>\n",
       "    </tr>\n",
       "    <tr>\n",
       "      <th>8</th>\n",
       "      <td>121678</td>\n",
       "      <td>0</td>\n",
       "      <td>0</td>\n",
       "      <td>0</td>\n",
       "      <td>0</td>\n",
       "      <td>0</td>\n",
       "      <td>0</td>\n",
       "      <td>0</td>\n",
       "      <td>0</td>\n",
       "      <td>0</td>\n",
       "      <td>...</td>\n",
       "      <td>0</td>\n",
       "      <td>0</td>\n",
       "      <td>0</td>\n",
       "      <td>2556</td>\n",
       "      <td>0</td>\n",
       "      <td>0</td>\n",
       "      <td>0</td>\n",
       "      <td>0</td>\n",
       "      <td>10</td>\n",
       "      <td>0</td>\n",
       "    </tr>\n",
       "    <tr>\n",
       "      <th>9</th>\n",
       "      <td>121679</td>\n",
       "      <td>0</td>\n",
       "      <td>0</td>\n",
       "      <td>0</td>\n",
       "      <td>0</td>\n",
       "      <td>0</td>\n",
       "      <td>0</td>\n",
       "      <td>0</td>\n",
       "      <td>0</td>\n",
       "      <td>0</td>\n",
       "      <td>...</td>\n",
       "      <td>0</td>\n",
       "      <td>37</td>\n",
       "      <td>0</td>\n",
       "      <td>0</td>\n",
       "      <td>0</td>\n",
       "      <td>0</td>\n",
       "      <td>0</td>\n",
       "      <td>0</td>\n",
       "      <td>0</td>\n",
       "      <td>0</td>\n",
       "    </tr>\n",
       "  </tbody>\n",
       "</table>\n",
       "<p>3 rows × 126 columns</p>\n",
       "</div>"
      ],
      "text/plain": [
       "     user  Unknown  ahmedabad  al kuwayt  ann arbor  ar riya  bangalore  \\\n",
       "7  121675        0          0          0          0        0        373   \n",
       "8  121678        0          0          0          0        0          0   \n",
       "9  121679        0          0          0          0        0          0   \n",
       "\n",
       "   barcelona  bengaluru  bhopal  ...   9 pm  10 pm  11 pm  3 am  4 am  5 am  \\\n",
       "7          0          0       0  ...      0      0      0     0     0     0   \n",
       "8          0          0       0  ...      0      0      0  2556     0     0   \n",
       "9          0          0       0  ...      0     37      0     0     0     0   \n",
       "\n",
       "   6 am  7 am  8 am  9 am  \n",
       "7     0     0     0     0  \n",
       "8     0     0    10     0  \n",
       "9     0     0     0     0  \n",
       "\n",
       "[3 rows x 126 columns]"
      ]
     },
     "execution_count": 53,
     "metadata": {},
     "output_type": "execute_result"
    }
   ],
   "source": [
    "test"
   ]
  },
  {
   "cell_type": "code",
   "execution_count": 54,
   "metadata": {},
   "outputs": [
    {
     "data": {
      "text/html": [
       "<div>\n",
       "<style scoped>\n",
       "    .dataframe tbody tr th:only-of-type {\n",
       "        vertical-align: middle;\n",
       "    }\n",
       "\n",
       "    .dataframe tbody tr th {\n",
       "        vertical-align: top;\n",
       "    }\n",
       "\n",
       "    .dataframe thead th {\n",
       "        text-align: right;\n",
       "    }\n",
       "</style>\n",
       "<table border=\"1\" class=\"dataframe\">\n",
       "  <thead>\n",
       "    <tr style=\"text-align: right;\">\n",
       "      <th></th>\n",
       "      <th>user 121672</th>\n",
       "      <th>user 121673</th>\n",
       "      <th>user 121670</th>\n",
       "      <th>user 121671</th>\n",
       "      <th>user 121676</th>\n",
       "      <th>user 121677</th>\n",
       "      <th>user 121674</th>\n",
       "      <th>user 121675</th>\n",
       "    </tr>\n",
       "  </thead>\n",
       "  <tbody>\n",
       "    <tr>\n",
       "      <th>0</th>\n",
       "      <td>1.000000</td>\n",
       "      <td>0.798391</td>\n",
       "      <td>0.952144</td>\n",
       "      <td>0.997786</td>\n",
       "      <td>0.992856</td>\n",
       "      <td>0.998686</td>\n",
       "      <td>0.949831</td>\n",
       "      <td>0.995910</td>\n",
       "    </tr>\n",
       "    <tr>\n",
       "      <th>1</th>\n",
       "      <td>0.798391</td>\n",
       "      <td>1.000000</td>\n",
       "      <td>0.833443</td>\n",
       "      <td>0.798616</td>\n",
       "      <td>0.794927</td>\n",
       "      <td>0.796284</td>\n",
       "      <td>0.773970</td>\n",
       "      <td>0.798662</td>\n",
       "    </tr>\n",
       "    <tr>\n",
       "      <th>2</th>\n",
       "      <td>0.952144</td>\n",
       "      <td>0.833443</td>\n",
       "      <td>1.000000</td>\n",
       "      <td>0.959003</td>\n",
       "      <td>0.946379</td>\n",
       "      <td>0.950181</td>\n",
       "      <td>0.907394</td>\n",
       "      <td>0.951155</td>\n",
       "    </tr>\n",
       "    <tr>\n",
       "      <th>3</th>\n",
       "      <td>0.997786</td>\n",
       "      <td>0.798616</td>\n",
       "      <td>0.959003</td>\n",
       "      <td>1.000000</td>\n",
       "      <td>0.992234</td>\n",
       "      <td>0.998188</td>\n",
       "      <td>0.948089</td>\n",
       "      <td>0.995461</td>\n",
       "    </tr>\n",
       "    <tr>\n",
       "      <th>4</th>\n",
       "      <td>0.992856</td>\n",
       "      <td>0.794927</td>\n",
       "      <td>0.946379</td>\n",
       "      <td>0.992234</td>\n",
       "      <td>1.000000</td>\n",
       "      <td>0.994009</td>\n",
       "      <td>0.950160</td>\n",
       "      <td>0.991180</td>\n",
       "    </tr>\n",
       "    <tr>\n",
       "      <th>5</th>\n",
       "      <td>0.998686</td>\n",
       "      <td>0.796284</td>\n",
       "      <td>0.950181</td>\n",
       "      <td>0.998188</td>\n",
       "      <td>0.994009</td>\n",
       "      <td>1.000000</td>\n",
       "      <td>0.948082</td>\n",
       "      <td>0.995706</td>\n",
       "    </tr>\n",
       "    <tr>\n",
       "      <th>6</th>\n",
       "      <td>0.949831</td>\n",
       "      <td>0.773970</td>\n",
       "      <td>0.907394</td>\n",
       "      <td>0.948089</td>\n",
       "      <td>0.950160</td>\n",
       "      <td>0.948082</td>\n",
       "      <td>1.000000</td>\n",
       "      <td>0.944934</td>\n",
       "    </tr>\n",
       "    <tr>\n",
       "      <th>7</th>\n",
       "      <td>0.995910</td>\n",
       "      <td>0.798662</td>\n",
       "      <td>0.951155</td>\n",
       "      <td>0.995461</td>\n",
       "      <td>0.991180</td>\n",
       "      <td>0.995706</td>\n",
       "      <td>0.944934</td>\n",
       "      <td>1.000000</td>\n",
       "    </tr>\n",
       "  </tbody>\n",
       "</table>\n",
       "</div>"
      ],
      "text/plain": [
       "   user 121672  user 121673  user 121670  user 121671  user 121676  \\\n",
       "0     1.000000     0.798391     0.952144     0.997786     0.992856   \n",
       "1     0.798391     1.000000     0.833443     0.798616     0.794927   \n",
       "2     0.952144     0.833443     1.000000     0.959003     0.946379   \n",
       "3     0.997786     0.798616     0.959003     1.000000     0.992234   \n",
       "4     0.992856     0.794927     0.946379     0.992234     1.000000   \n",
       "5     0.998686     0.796284     0.950181     0.998188     0.994009   \n",
       "6     0.949831     0.773970     0.907394     0.948089     0.950160   \n",
       "7     0.995910     0.798662     0.951155     0.995461     0.991180   \n",
       "\n",
       "   user 121677  user 121674  user 121675  \n",
       "0     0.998686     0.949831     0.995910  \n",
       "1     0.796284     0.773970     0.798662  \n",
       "2     0.950181     0.907394     0.951155  \n",
       "3     0.998188     0.948089     0.995461  \n",
       "4     0.994009     0.950160     0.991180  \n",
       "5     1.000000     0.948082     0.995706  \n",
       "6     0.948082     1.000000     0.944934  \n",
       "7     0.995706     0.944934     1.000000  "
      ]
     },
     "execution_count": 54,
     "metadata": {},
     "output_type": "execute_result"
    }
   ],
   "source": [
    "new_user = test.iloc[0]\n",
    "#39,23,1,11,19\n",
    "new_user = pd.DataFrame(new_user)\n",
    "new_user = new_user.T\n",
    "new_train = pd.concat([train,new_user]).fillna(0)\n",
    "cols = new_train[\"user\"].values.tolist()\n",
    "cols = [\"user \"+ str(x) for x in cols]\n",
    "corr_matrix = pd.DataFrame(cs(new_train),columns = cols)\n",
    "corr_matrix"
   ]
  },
  {
   "cell_type": "code",
   "execution_count": 55,
   "metadata": {},
   "outputs": [],
   "source": [
    "line = corr_matrix.iloc[-1]\n",
    "line = pd.DataFrame(line)\n",
    "line[\"Users\"] = line.index\n",
    "user_id = line[\"Users\"].iloc[-1]\n",
    "line.columns = [\"Similarity\", \"Users\"]"
   ]
  },
  {
   "cell_type": "code",
   "execution_count": 56,
   "metadata": {},
   "outputs": [
    {
     "data": {
      "text/html": [
       "<div>\n",
       "<style scoped>\n",
       "    .dataframe tbody tr th:only-of-type {\n",
       "        vertical-align: middle;\n",
       "    }\n",
       "\n",
       "    .dataframe tbody tr th {\n",
       "        vertical-align: top;\n",
       "    }\n",
       "\n",
       "    .dataframe thead th {\n",
       "        text-align: right;\n",
       "    }\n",
       "</style>\n",
       "<table border=\"1\" class=\"dataframe\">\n",
       "  <thead>\n",
       "    <tr style=\"text-align: right;\">\n",
       "      <th></th>\n",
       "      <th>Similarity</th>\n",
       "      <th>Users</th>\n",
       "    </tr>\n",
       "  </thead>\n",
       "  <tbody>\n",
       "    <tr>\n",
       "      <th>user 121672</th>\n",
       "      <td>0.995910</td>\n",
       "      <td>user 121672</td>\n",
       "    </tr>\n",
       "    <tr>\n",
       "      <th>user 121673</th>\n",
       "      <td>0.798662</td>\n",
       "      <td>user 121673</td>\n",
       "    </tr>\n",
       "    <tr>\n",
       "      <th>user 121670</th>\n",
       "      <td>0.951155</td>\n",
       "      <td>user 121670</td>\n",
       "    </tr>\n",
       "    <tr>\n",
       "      <th>user 121671</th>\n",
       "      <td>0.995461</td>\n",
       "      <td>user 121671</td>\n",
       "    </tr>\n",
       "    <tr>\n",
       "      <th>user 121676</th>\n",
       "      <td>0.991180</td>\n",
       "      <td>user 121676</td>\n",
       "    </tr>\n",
       "    <tr>\n",
       "      <th>user 121677</th>\n",
       "      <td>0.995706</td>\n",
       "      <td>user 121677</td>\n",
       "    </tr>\n",
       "    <tr>\n",
       "      <th>user 121674</th>\n",
       "      <td>0.944934</td>\n",
       "      <td>user 121674</td>\n",
       "    </tr>\n",
       "    <tr>\n",
       "      <th>user 121675</th>\n",
       "      <td>1.000000</td>\n",
       "      <td>user 121675</td>\n",
       "    </tr>\n",
       "  </tbody>\n",
       "</table>\n",
       "</div>"
      ],
      "text/plain": [
       "             Similarity        Users\n",
       "user 121672    0.995910  user 121672\n",
       "user 121673    0.798662  user 121673\n",
       "user 121670    0.951155  user 121670\n",
       "user 121671    0.995461  user 121671\n",
       "user 121676    0.991180  user 121676\n",
       "user 121677    0.995706  user 121677\n",
       "user 121674    0.944934  user 121674\n",
       "user 121675    1.000000  user 121675"
      ]
     },
     "execution_count": 56,
     "metadata": {},
     "output_type": "execute_result"
    }
   ],
   "source": [
    "line"
   ]
  },
  {
   "cell_type": "code",
   "execution_count": 57,
   "metadata": {},
   "outputs": [],
   "source": [
    "final = line[(line[\"Similarity\"]>0.99) & (line[\"Similarity\"]<1)][\"Users\"].values.tolist()\n",
    "final = [x for x in final if x != cols[-1]]\n",
    "users =[float(x.strip(\"user \"))for x in final] \n",
    "users = [str(int(x)) for x in users]\n",
    "ok = df_500[df_500['user'].isin(users)]\n",
    "recos = ok[\"genres\"].values.tolist()\n",
    "#print (users)"
   ]
  },
  {
   "cell_type": "code",
   "execution_count": 58,
   "metadata": {},
   "outputs": [
    {
     "data": {
      "text/plain": [
       "['Drama:6,Cricket:3469,Wildlife:79',\n",
       " 'Romance:77,Drama:122,Cricket:3883',\n",
       " 'TalkShow:8529',\n",
       " 'TalkShow:5']"
      ]
     },
     "execution_count": 58,
     "metadata": {},
     "output_type": "execute_result"
    }
   ],
   "source": [
    "recos"
   ]
  },
  {
   "cell_type": "code",
   "execution_count": 60,
   "metadata": {},
   "outputs": [
    {
     "name": "stdout",
     "output_type": "stream",
     "text": [
      "  cricket drama romance talkshow wildlife\n",
      "0    3469     6       0        0       79\n",
      "1    3883   122      77        0        0\n",
      "2       0     0       0     8529        0\n",
      "3       0     0       0        5        0\n",
      "user 121675\n"
     ]
    }
   ],
   "source": [
    "final_1=[]\n",
    "for i in range(len(recos)):\n",
    "    frames_genres=[]\n",
    "    genre = recos[i].split(\",\")\n",
    "    flat_list_g = [item for sublist in [i.split(':', 1) for i in genre] for item in sublist]\n",
    "    flat_list_g = [i.lower() for i in flat_list_g]\n",
    "    genre_1 = pd.DataFrame(flat_list_g[0::2]).T\n",
    "    second_g = pd.DataFrame(flat_list_g[1::2]).T\n",
    "    genre_df = pd.concat([genre_1,second_g],ignore_index = True)\n",
    "    genre_df.columns = genre_df.iloc[0]\n",
    "    genre_df = genre_df.drop([0],0)\n",
    "    frames_genres.append(genre_df)\n",
    "    final_df_g = pd.concat(frames_genres,join='outer', ignore_index=True)\n",
    "    final_1.append(pd.DataFrame(final_df_g))\n",
    "genre = pd.concat(final_1,join='outer', ignore_index=True)\n",
    "genre = genre.fillna(0) \n",
    "print (genre)\n",
    "print (user_id)"
   ]
  },
  {
   "cell_type": "code",
   "execution_count": 61,
   "metadata": {},
   "outputs": [
    {
     "name": "stdout",
     "output_type": "stream",
     "text": [
      "   cricket  drama  romance  talkshow  wildlife\n",
      "0     3469      6        0         0        79\n",
      "1     3883    122       77         0         0\n",
      "2        0      0        0      8529         0\n",
      "3        0      0        0         5         0\n"
     ]
    }
   ],
   "source": [
    "genre = genre.apply(pd.to_numeric)\n",
    "print(genre)\n"
   ]
  },
  {
   "cell_type": "code",
   "execution_count": 62,
   "metadata": {},
   "outputs": [
    {
     "data": {
      "text/plain": [
       "{'cricket': 3883,\n",
       " 'drama': 122,\n",
       " 'romance': 77,\n",
       " 'talkshow': 8529,\n",
       " 'wildlife': 79}"
      ]
     },
     "execution_count": 62,
     "metadata": {},
     "output_type": "execute_result"
    }
   ],
   "source": [
    "cols = genre.columns.tolist()\n",
    "col_maxes =[]\n",
    "for x in cols:\n",
    "    col_maxes.append(genre[x].max())\n",
    "d = dict(zip(cols,col_maxes))\n",
    "d"
   ]
  },
  {
   "cell_type": "code",
   "execution_count": 64,
   "metadata": {},
   "outputs": [
    {
     "name": "stdout",
     "output_type": "stream",
     "text": [
      "[('talkshow', 8529), ('cricket', 3883), ('drama', 122), ('wildlife', 79), ('romance', 77)]\n"
     ]
    }
   ],
   "source": [
    "import operator\n",
    "f = sorted(d.items(), key=operator.itemgetter(1), reverse = True)\n",
    "print (f)\n"
   ]
  },
  {
   "cell_type": "code",
   "execution_count": null,
   "metadata": {},
   "outputs": [],
   "source": [
    "recommendations = []\n",
    "for x in f[:4]:\n",
    "    recommendations.append(x[0])\n",
    "print (recommendations)"
   ]
  }
 ],
 "metadata": {
  "kernelspec": {
   "display_name": "Python 3",
   "language": "python",
   "name": "python3"
  },
  "language_info": {
   "codemirror_mode": {
    "name": "ipython",
    "version": 3
   },
   "file_extension": ".py",
   "mimetype": "text/x-python",
   "name": "python",
   "nbconvert_exporter": "python",
   "pygments_lexer": "ipython3",
   "version": "3.7.0"
  }
 },
 "nbformat": 4,
 "nbformat_minor": 2
}
